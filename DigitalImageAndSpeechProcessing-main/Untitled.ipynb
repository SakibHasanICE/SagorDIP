{
 "cells": [
  {
   "cell_type": "code",
   "execution_count": 1,
   "id": "c8dceb7e",
   "metadata": {},
   "outputs": [],
   "source": [
    "import numpy as np\n",
    "import librosa\n",
    "import sounddevice as sd\n",
    "\n",
    "# Load a speech signal (replace 'speech.wav' with your file)\n",
    "speechSignal, Fs = librosa.load('sound.mp3', sr=None)\n",
    "\n",
    "# Parameters for voice activity detection\n",
    "frame_size = int(0.02 * Fs)  # Frame size in samples (20 ms)\n",
    "overlap = 0.5  # Overlap between frames (50%)\n",
    "threshold_zcr = 20  # ZCR threshold to detect unvoiced segments\n",
    "threshold_ste = 0.0003  # STE threshold to detect silence segments\n",
    "\n",
    "# Initialize arrays to store results\n",
    "voiced = np.zeros_like(speechSignal)\n",
    "unvoiced = np.zeros_like(speechSignal)\n",
    "silence = np.zeros_like(speechSignal)\n",
    "\n",
    "for i in range(0, len(speechSignal) - frame_size, int(frame_size * (1 - overlap))):\n",
    "    frame = speechSignal[i : i + frame_size]\n",
    "\n",
    "    # Calculate zero-crossing rate\n",
    "    zcr = np.sum(np.abs(np.diff(np.sign(frame)))) / (2 * frame_size)\n",
    "\n",
    "    # Calculate short-time energy\n",
    "    ste = np.sum(frame ** 2) / frame_size\n",
    "\n",
    "    # Classify frames into voiced, unvoiced, or silence\n",
    "    if zcr > threshold_zcr:\n",
    "        unvoiced[i : i + frame_size] = frame\n",
    "    elif ste < threshold_ste:\n",
    "        silence[i : i + frame_size] = frame\n",
    "    else:\n",
    "        voiced[i : i + frame_size] = frame\n",
    "\n",
    "# Play the original speech signal\n",
    "sd.play(speechSignal, Fs)\n",
    "sd.wait()\n",
    "print('Orginal')\n",
    "\n",
    "# Play the separated segments\n",
    "sd.play(voiced, Fs)\n",
    "sd.wait()\n",
    "print('Voice finished')\n",
    "sd.play(unvoiced, Fs)\n",
    "sd.wait()\n",
    "print('unvoiced finished')\n",
    "sd.play(silence, Fs)\n",
    "sd.wait()\n",
    "print('Silence finished')"
   ]
  },
  {
   "cell_type": "code",
   "execution_count": null,
   "id": "79102391",
   "metadata": {},
   "outputs": [],
   "source": []
  }
 ],
 "metadata": {
  "kernelspec": {
   "display_name": "Python 3 (ipykernel)",
   "language": "python",
   "name": "python3"
  },
  "language_info": {
   "codemirror_mode": {
    "name": "ipython",
    "version": 3
   },
   "file_extension": ".py",
   "mimetype": "text/x-python",
   "name": "python",
   "nbconvert_exporter": "python",
   "pygments_lexer": "ipython3",
   "version": "3.11.5"
  }
 },
 "nbformat": 4,
 "nbformat_minor": 5
}
